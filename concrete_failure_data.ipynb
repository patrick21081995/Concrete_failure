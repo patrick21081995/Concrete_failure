{
  "nbformat": 4,
  "nbformat_minor": 0,
  "metadata": {
    "kernelspec": {
      "display_name": "Python",
      "language": "python",
      "name": "conda-env-python-py"
    },
    "language_info": {
      "codemirror_mode": {
        "name": "ipython",
        "version": 3
      },
      "file_extension": ".py",
      "mimetype": "text/x-python",
      "name": "python",
      "nbconvert_exporter": "python",
      "pygments_lexer": "ipython3",
      "version": "3.6.7"
    },
    "colab": {
      "name": "concrete_data_failure.ipynb",
      "provenance": [],
      "collapsed_sections": []
    }
  },
  "cells": [
    {
      "cell_type": "markdown",
      "source": [
        "The following cells download and unzip the data (concrete data)"
      ],
      "metadata": {
        "id": "hao9XU-qVFQb"
      }
    },
    {
      "cell_type": "code",
      "metadata": {
        "id": "zFr5yPSpYHh2"
      },
      "source": [
        "!wget https://s3-api.us-geo.objectstorage.softlayer.net/cf-courses-data/CognitiveClass/DL0321EN/data/concrete_data_week4.zip"
      ],
      "execution_count": null,
      "outputs": []
    },
    {
      "cell_type": "code",
      "metadata": {
        "id": "XamegBbQYHjb"
      },
      "source": [
        "!unzip concrete_data_week4.zip"
      ],
      "execution_count": null,
      "outputs": []
    },
    {
      "cell_type": "markdown",
      "metadata": {
        "id": "jMCBYndzYHjj"
      },
      "source": [
        "Using the VGG16 pre-trained model"
      ]
    },
    {
      "cell_type": "code",
      "metadata": {
        "id": "3eUWF4h5YHjp"
      },
      "source": [
        "# imports\n",
        "from keras.applications.vgg16 import VGG16, preprocess_input\n",
        "from keras.preprocessing.image import ImageDataGenerator\n",
        "from keras.models import Sequential, load_model\n",
        "from keras.layers import Dense, AveragePooling2D, Flatten"
      ],
      "execution_count": null,
      "outputs": []
    },
    {
      "cell_type": "code",
      "metadata": {
        "id": "7tLmnkerYHjq"
      },
      "source": [
        "# number of classes (0 and 1) and batch size\n",
        "n_classes = 2\n",
        "batch_size = 100"
      ],
      "execution_count": null,
      "outputs": []
    },
    {
      "cell_type": "code",
      "metadata": {
        "scrolled": true,
        "id": "64xT3qAuYHjs"
      },
      "source": [
        "# data generator\n",
        "data_generator = ImageDataGenerator(preprocessing_function = preprocess_input)"
      ],
      "execution_count": null,
      "outputs": []
    },
    {
      "cell_type": "code",
      "metadata": {
        "colab": {
          "base_uri": "https://localhost:8080/"
        },
        "id": "bYMimjoHYHjt",
        "outputId": "0abff5cf-ea53-4f66-d2fa-597ef6f95614"
      },
      "source": [
        "# train data\n",
        "train_generator = data_generator.flow_from_directory('concrete_data_week4/train',\n",
        "                                              target_size = (224, 224), batch_size = batch_size)\n",
        "\n",
        "#validation data\n",
        "validation_generator = data_generator.flow_from_directory('concrete_data_week4/valid',\n",
        "                                                    target_size = (224, 224), batch_size = batch_size)"
      ],
      "execution_count": null,
      "outputs": [
        {
          "output_type": "stream",
          "name": "stdout",
          "text": [
            "Found 30001 images belonging to 2 classes.\n",
            "Found 9501 images belonging to 2 classes.\n"
          ]
        }
      ]
    },
    {
      "cell_type": "code",
      "metadata": {
        "colab": {
          "base_uri": "https://localhost:8080/"
        },
        "id": "fHUYwoiaYHjt",
        "outputId": "c31d6c56-966d-40da-9c20-e3df091b2c48"
      },
      "source": [
        "# sequential model\n",
        "model = Sequential()\n",
        "model.add(VGG16(weights = 'imagenet', include_top = False, pooling = 'avg'))\n",
        "model.layers[0].trainable = False\n",
        "model.add(Dense(128, activation = 'relu'))\n",
        "model.add(Dense(n_classes, activation = 'softmax'))\n",
        "\n",
        "# summary of the model\n",
        "model.summary()"
      ],
      "execution_count": null,
      "outputs": [
        {
          "output_type": "stream",
          "name": "stdout",
          "text": [
            "Downloading data from https://storage.googleapis.com/tensorflow/keras-applications/vgg16/vgg16_weights_tf_dim_ordering_tf_kernels_notop.h5\n",
            "58892288/58889256 [==============================] - 0s 0us/step\n",
            "58900480/58889256 [==============================] - 0s 0us/step\n",
            "Model: \"sequential\"\n",
            "_________________________________________________________________\n",
            "Layer (type)                 Output Shape              Param #   \n",
            "=================================================================\n",
            "vgg16 (Functional)           (None, 512)               14714688  \n",
            "_________________________________________________________________\n",
            "dense (Dense)                (None, 128)               65664     \n",
            "_________________________________________________________________\n",
            "dense_1 (Dense)              (None, 2)                 258       \n",
            "=================================================================\n",
            "Total params: 14,780,610\n",
            "Trainable params: 65,922\n",
            "Non-trainable params: 14,714,688\n",
            "_________________________________________________________________\n"
          ]
        }
      ]
    },
    {
      "cell_type": "code",
      "metadata": {
        "id": "uHZhUTPFYHju"
      },
      "source": [
        "# model compile\n",
        "model.compile(optimizer = 'adam', loss = 'categorical_crossentropy', metrics = ['accuracy'])"
      ],
      "execution_count": null,
      "outputs": []
    },
    {
      "cell_type": "code",
      "metadata": {
        "id": "EFZjjj8yYHjw"
      },
      "source": [
        "n_epochs = 2\n",
        "\n",
        "# model fit\n",
        "model.fit(train_generator, epochs = n_epochs, validation_data = validation_generator)\n",
        "\n",
        "# save the model\n",
        "model.save('classifier_vgg16_model.h5')"
      ],
      "execution_count": null,
      "outputs": []
    },
    {
      "cell_type": "markdown",
      "metadata": {
        "id": "mmt0rOR4YHj6"
      },
      "source": [
        "Use the following cells to evaluate your models."
      ]
    },
    {
      "cell_type": "code",
      "metadata": {
        "id": "YlA9EyEKYHj9"
      },
      "source": [
        "# loading the vgg16 model\n",
        "vgg16_model = load_model('classifier_vgg16_model.h5')"
      ],
      "execution_count": null,
      "outputs": []
    },
    {
      "cell_type": "code",
      "metadata": {
        "colab": {
          "base_uri": "https://localhost:8080/"
        },
        "id": "15eKifJeYHj9",
        "outputId": "bd792410-4331-487f-808c-d123a9433312"
      },
      "source": [
        "# image generator\n",
        "data_generator = ImageDataGenerator()\n",
        "\n",
        "# and the test set generator\n",
        "test_generator = data_generator.flow_from_directory(\"concrete_data_week4/test\",\n",
        "                                                    target_size = (224,224), shuffle = False)"
      ],
      "execution_count": null,
      "outputs": [
        {
          "output_type": "stream",
          "name": "stdout",
          "text": [
            "Found 500 images belonging to 2 classes.\n"
          ]
        }
      ]
    },
    {
      "cell_type": "code",
      "metadata": {
        "colab": {
          "base_uri": "https://localhost:8080/"
        },
        "id": "KxIP8Vp5YHj-",
        "outputId": "4d7b1fb3-82bd-4ff3-beeb-c1e2126e4e50"
      },
      "source": [
        "# performance of VGG16 model\n",
        "vgg16 = vgg16_model.evaluate(test_generator)\n",
        "vgg16"
      ],
      "execution_count": null,
      "outputs": [
        {
          "output_type": "stream",
          "name": "stdout",
          "text": [
            "16/16 [==============================] - 251s 16s/step - loss: 0.0320 - accuracy: 0.9940\n"
          ]
        },
        {
          "output_type": "execute_result",
          "data": {
            "text/plain": [
              "[0.03202611207962036, 0.9940000176429749]"
            ]
          },
          "metadata": {},
          "execution_count": 20
        }
      ]
    },
    {
      "cell_type": "code",
      "metadata": {
        "id": "40bwJ0m0fCAe"
      },
      "source": [
        "# The VGG16 has 0.0320 loss and 0.9940 (99.40%) accuracy"
      ],
      "execution_count": null,
      "outputs": []
    },
    {
      "cell_type": "markdown",
      "metadata": {
        "id": "ojQb54A4YHkD"
      },
      "source": [
        "Use the following cells to make your predictions."
      ]
    },
    {
      "cell_type": "code",
      "metadata": {
        "id": "uD6NItKkYHkD"
      },
      "source": [
        "# prediction function of the models\n",
        "vgg16_predict = vgg16_model.predict(test_generator)"
      ],
      "execution_count": null,
      "outputs": []
    },
    {
      "cell_type": "code",
      "metadata": {
        "colab": {
          "base_uri": "https://localhost:8080/"
        },
        "id": "McVds6cUYHkE",
        "outputId": "ff6199cd-ca80-4aa4-854f-65e220570c6c"
      },
      "source": [
        "# vgg16 predictions\n",
        "vgg16_predict[0:5]"
      ],
      "execution_count": null,
      "outputs": [
        {
          "output_type": "execute_result",
          "data": {
            "text/plain": [
              "array([[9.9999368e-01, 6.3318153e-06],\n",
              "       [9.8152727e-01, 1.8472763e-02],\n",
              "       [9.9987566e-01, 1.2435562e-04],\n",
              "       [9.9998152e-01, 1.8496527e-05],\n",
              "       [9.9969268e-01, 3.0733497e-04]], dtype=float32)"
            ]
          },
          "metadata": {},
          "execution_count": 27
        }
      ]
    },
    {
      "cell_type": "code",
      "metadata": {
        "id": "bZk7EpA8YHkF"
      },
      "source": [
        "# The VGG16 predict, in the first five images: (chosing the maximum value)\n",
        "# POSITIVE\n",
        "# POSITIVE\n",
        "# POSITIVE\n",
        "# POSITIVE\n",
        "# POSITIVE"
      ],
      "execution_count": null,
      "outputs": []
    }
  ]
}